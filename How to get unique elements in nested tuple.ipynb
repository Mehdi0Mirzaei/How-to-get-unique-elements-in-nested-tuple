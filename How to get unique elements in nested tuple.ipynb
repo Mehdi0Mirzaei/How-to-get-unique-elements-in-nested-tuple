{
 "cells": [
  {
   "cell_type": "code",
   "execution_count": 17,
   "id": "d750e467",
   "metadata": {},
   "outputs": [
    {
     "name": "stdout",
     "output_type": "stream",
     "text": [
      "The original list : [(3, 4, 5), (4, 5, 7), (1, 4)]\n",
      "Unique elements in nested tuples are : [3, 4, 5, 7, 1]\n"
     ]
    }
   ],
   "source": [
    "# initialize list\n",
    "test_list = [(3, 4, 5), (4, 5, 7), (1, 4)]\n",
    " \n",
    "# printing original list \n",
    "print(\"The original list : \" + str(test_list))\n",
    " \n",
    "# Unique elements in nested tuple\n",
    "# Using nested loop + set()\n",
    "res = []\n",
    "temp = set()\n",
    "for inner in test_list:\n",
    "        for ele in inner:\n",
    "            if not ele in temp:\n",
    "                temp.add(ele)\n",
    "                res.append(ele)\n",
    " # printing result\n",
    "print(\"Unique elements in nested tuples are : \" + str(res))"
   ]
  },
  {
   "cell_type": "code",
   "execution_count": 18,
   "id": "1a511dba",
   "metadata": {},
   "outputs": [
    {
     "name": "stdout",
     "output_type": "stream",
     "text": [
      "The original list : [(3, 4, 5), (4, 5, 7), (1, 4)]\n",
      "Unique elements in nested tuples are : [1, 3, 4, 5, 7]\n"
     ]
    }
   ],
   "source": [
    "# initialize list\n",
    "test_list = [(3, 4, 5), (4, 5, 7), (1, 4)]\n",
    " \n",
    "# printing original list\n",
    "print(\"The original list : \" + str(test_list))\n",
    " \n",
    "# Unique elements in nested tuple\n",
    "x=[]\n",
    "for i in test_list:\n",
    "    i=list(i)\n",
    "    x.extend(i)\n",
    "res=list(set(x))\n",
    "# printing result\n",
    "print(\"Unique elements in nested tuples are : \" + str(res))"
   ]
  },
  {
   "cell_type": "code",
   "execution_count": 19,
   "id": "06b89234",
   "metadata": {},
   "outputs": [
    {
     "name": "stdout",
     "output_type": "stream",
     "text": [
      "The original list : [(3, 4, 5), (4, 5, 7), (1, 4)]\n",
      "Unique elements in nested tuples are : [1, 3, 4, 5, 7]\n"
     ]
    }
   ],
   "source": [
    "# initialize list\n",
    "test_list = [(3, 4, 5), (4, 5, 7), (1, 4)]\n",
    " \n",
    "# printing original list \n",
    "print(\"The original list : \" + str(test_list))\n",
    " \n",
    "# Unique elements in nested tuple\n",
    "# Using list comprehension and set conversion\n",
    "res = sorted(set([x for inner in test_list for x in inner]))\n",
    " \n",
    "# printing result\n",
    "print(\"Unique elements in nested tuples are : \" + str(res))"
   ]
  },
  {
   "cell_type": "code",
   "execution_count": 20,
   "id": "e6bef348",
   "metadata": {},
   "outputs": [
    {
     "name": "stdout",
     "output_type": "stream",
     "text": [
      "The original list : [(3, 4, 5), (4, 5, 7), (1, 4)]\n",
      "Unique elements in nested tuples are : [1, 3, 4, 5, 7]\n"
     ]
    }
   ],
   "source": [
    "import numpy as np\n",
    " \n",
    "# initialize list\n",
    "test_list = [(3, 4, 5), (4, 5, 7), (1, 4)]\n",
    " \n",
    "# printing original list\n",
    "print(\"The original list : \" + str(test_list))\n",
    " \n",
    "# Unique elements in nested tuple\n",
    "# Using numpy.unique() function\n",
    "res = np.unique(np.concatenate(test_list)).tolist()\n",
    " \n",
    "# printing result\n",
    "print(\"Unique elements in nested tuples are : \" + str(res))"
   ]
  },
  {
   "cell_type": "code",
   "execution_count": null,
   "id": "d0a264d4",
   "metadata": {},
   "outputs": [],
   "source": []
  }
 ],
 "metadata": {
  "kernelspec": {
   "display_name": "Python 3 (ipykernel)",
   "language": "python",
   "name": "python3"
  },
  "language_info": {
   "codemirror_mode": {
    "name": "ipython",
    "version": 3
   },
   "file_extension": ".py",
   "mimetype": "text/x-python",
   "name": "python",
   "nbconvert_exporter": "python",
   "pygments_lexer": "ipython3",
   "version": "3.9.13"
  }
 },
 "nbformat": 4,
 "nbformat_minor": 5
}
